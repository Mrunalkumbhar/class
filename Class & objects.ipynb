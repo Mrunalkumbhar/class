{
 "cells": [
  {
   "cell_type": "code",
   "execution_count": 1,
   "metadata": {},
   "outputs": [],
   "source": [
    "class human():\n",
    "    pass"
   ]
  },
  {
   "cell_type": "code",
   "execution_count": 2,
   "metadata": {},
   "outputs": [],
   "source": [
    "class vehical():\n",
    "    def __init__(self,brand,model,types):\n",
    "        self.brand=brand\n",
    "        self.model=model\n",
    "        self.types=types\n",
    "        self.gas_tank_size=14\n",
    "        self.fuel_level=0\n",
    "    def fuel_up(self):\n",
    "        if self.fuel_level==self.gas_tank_size:\n",
    "            print('gas tank is now full')\n",
    "        elif self.fuel_level > self.gas_tank_size:\n",
    "            print('it can get over flow')\n",
    "        else:\n",
    "            print('fill more petrol')         \n",
    "    def drive(self):\n",
    "        print(f'The {self.model} is now driving')\n",
    "    def udate_fuel_level(self,new_level):\n",
    "        if new_level <= self.gas_tank_size:\n",
    "            self.fuel_level = self.new_level\n",
    "            print('exceeded capacity')\n",
    "    def get_gas(self,amount):\n",
    "        if (self.fuel_level + amount <= self.gas_tank_size):\n",
    "            self.fuel_level += amount\n",
    "            print('add fuel')\n",
    "        else:\n",
    "            print('the tank will not hold that much')"
   ]
  },
  {
   "cell_type": "code",
   "execution_count": 3,
   "metadata": {},
   "outputs": [],
   "source": [
    "vehical_object=vehical('hyundai','i20','hatchback')"
   ]
  },
  {
   "cell_type": "code",
   "execution_count": 4,
   "metadata": {},
   "outputs": [
    {
     "name": "stdout",
     "output_type": "stream",
     "text": [
      "hyundai\n",
      "i20\n",
      "hatchback\n"
     ]
    }
   ],
   "source": [
    "print(vehical_object.brand)\n",
    "print(vehical_object.model)\n",
    "print(vehical_object.types)"
   ]
  },
  {
   "cell_type": "code",
   "execution_count": 5,
   "metadata": {
    "scrolled": true
   },
   "outputs": [
    {
     "name": "stdout",
     "output_type": "stream",
     "text": [
      "The i20 is now driving\n"
     ]
    }
   ],
   "source": [
    "vehical_object.drive()"
   ]
  },
  {
   "cell_type": "code",
   "execution_count": 6,
   "metadata": {},
   "outputs": [
    {
     "name": "stdout",
     "output_type": "stream",
     "text": [
      "fill more petrol\n"
     ]
    }
   ],
   "source": [
    "vehical_object.fuel_up()"
   ]
  },
  {
   "cell_type": "code",
   "execution_count": 7,
   "metadata": {},
   "outputs": [],
   "source": [
    "cool_vehical=vehical('tata','harries','suv')"
   ]
  },
  {
   "cell_type": "code",
   "execution_count": 8,
   "metadata": {},
   "outputs": [],
   "source": [
    "cool_vehical.fuel_level=15"
   ]
  },
  {
   "cell_type": "code",
   "execution_count": 9,
   "metadata": {},
   "outputs": [
    {
     "name": "stdout",
     "output_type": "stream",
     "text": [
      "it can get over flow\n"
     ]
    }
   ],
   "source": [
    "cool_vehical.fuel_up()"
   ]
  },
  {
   "cell_type": "code",
   "execution_count": 10,
   "metadata": {},
   "outputs": [
    {
     "name": "stdout",
     "output_type": "stream",
     "text": [
      "Mrunal\n",
      "36\n",
      "1\n"
     ]
    }
   ],
   "source": [
    "class student():\n",
    "    def __init__(self,name,age,roll_no):\n",
    "        self.name=name\n",
    "        self.age=age\n",
    "        self.roll_no=roll_no\n",
    "n=student(\"Mrunal\", 36,1)\n",
    "print(n.name)\n",
    "print(n.age)\n",
    "print(n.roll_no)"
   ]
  },
  {
   "cell_type": "code",
   "execution_count": 11,
   "metadata": {},
   "outputs": [
    {
     "name": "stdout",
     "output_type": "stream",
     "text": [
      "John\n",
      "36\n"
     ]
    }
   ],
   "source": [
    "class Person:\n",
    "    def __init__(self, name, age):\n",
    "        self.name = name\n",
    "        self.age = age\n",
    "\n",
    "p1 = Person(\"John\", 36)\n",
    "\n",
    "print(p1.name)\n",
    "print(p1.age)"
   ]
  },
  {
   "cell_type": "code",
   "execution_count": null,
   "metadata": {},
   "outputs": [],
   "source": [
    "#create class for all"
   ]
  },
  {
   "cell_type": "code",
   "execution_count": 1,
   "metadata": {},
   "outputs": [],
   "source": [
    "class Patients():\n",
    "    Name=''\n",
    "    Age=''\n",
    "    Gender=''"
   ]
  },
  {
   "cell_type": "code",
   "execution_count": null,
   "metadata": {},
   "outputs": [],
   "source": [
    "#create objects"
   ]
  },
  {
   "cell_type": "code",
   "execution_count": 2,
   "metadata": {},
   "outputs": [],
   "source": [
    "p=Patients()"
   ]
  },
  {
   "cell_type": "code",
   "execution_count": null,
   "metadata": {},
   "outputs": [],
   "source": [
    "# give values to the data members of these objects"
   ]
  },
  {
   "cell_type": "code",
   "execution_count": 3,
   "metadata": {},
   "outputs": [],
   "source": [
    "p.Name='Mrunal'\n",
    "p.Age=22\n",
    "p.Gender='F'"
   ]
  },
  {
   "cell_type": "code",
   "execution_count": null,
   "metadata": {},
   "outputs": [],
   "source": [
    "#see how to display the object values"
   ]
  },
  {
   "cell_type": "code",
   "execution_count": 4,
   "metadata": {},
   "outputs": [
    {
     "name": "stdout",
     "output_type": "stream",
     "text": [
      "Mrunal\n",
      "22\n",
      "F\n"
     ]
    }
   ],
   "source": [
    "print(p.Name)\n",
    "print(p.Age)\n",
    "print(p.Gender)"
   ]
  },
  {
   "cell_type": "code",
   "execution_count": 5,
   "metadata": {},
   "outputs": [],
   "source": [
    "class chest_pain():\n",
    "    types_of_chest_pain=''  \n",
    "    def set_details(self,tocp):\n",
    "        self.types_of_chest_pain=tocp  \n",
    "    def get_details(self):\n",
    "        print(self.types_of_chest_pain)"
   ]
  },
  {
   "cell_type": "code",
   "execution_count": 6,
   "metadata": {},
   "outputs": [
    {
     "name": "stdout",
     "output_type": "stream",
     "text": [
      "typical angina\n"
     ]
    }
   ],
   "source": [
    "c=chest_pain()\n",
    "c.set_details('typical angina')\n",
    "c.get_details()"
   ]
  },
  {
   "cell_type": "code",
   "execution_count": 7,
   "metadata": {},
   "outputs": [],
   "source": [
    "class trtbps():\n",
    "    def __init__(self,bp,fbs):\n",
    "        self.bp=bp\n",
    "        self.fbs=fbs\n",
    "    def rbp(self):\n",
    "        if (self.bp > self.fbs):\n",
    "            print('it to low')\n",
    "        elif (self.bp<self.fbs) & (self.bp>self.fbs):\n",
    "            print('Normal')\n",
    "        else:\n",
    "            print('it to high')\n",
    "      "
   ]
  },
  {
   "cell_type": "code",
   "execution_count": 8,
   "metadata": {
    "scrolled": true
   },
   "outputs": [
    {
     "name": "stdout",
     "output_type": "stream",
     "text": [
      "56\n",
      "123\n",
      "it to high\n"
     ]
    }
   ],
   "source": [
    "trtbps_object=trtbps(56,123)\n",
    "print(trtbps_object.bp)\n",
    "print(trtbps_object.fbs)\n",
    "trtbps_object.rbp()\n"
   ]
  },
  {
   "cell_type": "code",
   "execution_count": 24,
   "metadata": {},
   "outputs": [],
   "source": []
  },
  {
   "cell_type": "code",
   "execution_count": null,
   "metadata": {},
   "outputs": [],
   "source": []
  },
  {
   "cell_type": "code",
   "execution_count": null,
   "metadata": {},
   "outputs": [],
   "source": []
  },
  {
   "cell_type": "code",
   "execution_count": null,
   "metadata": {},
   "outputs": [],
   "source": []
  },
  {
   "cell_type": "code",
   "execution_count": null,
   "metadata": {},
   "outputs": [],
   "source": []
  },
  {
   "cell_type": "code",
   "execution_count": null,
   "metadata": {},
   "outputs": [],
   "source": []
  },
  {
   "cell_type": "code",
   "execution_count": null,
   "metadata": {},
   "outputs": [],
   "source": []
  },
  {
   "cell_type": "code",
   "execution_count": null,
   "metadata": {},
   "outputs": [],
   "source": []
  },
  {
   "cell_type": "code",
   "execution_count": null,
   "metadata": {},
   "outputs": [],
   "source": []
  },
  {
   "cell_type": "code",
   "execution_count": null,
   "metadata": {},
   "outputs": [],
   "source": []
  },
  {
   "cell_type": "code",
   "execution_count": null,
   "metadata": {},
   "outputs": [],
   "source": []
  }
 ],
 "metadata": {
  "kernelspec": {
   "display_name": "Python 3",
   "language": "python",
   "name": "python3"
  },
  "language_info": {
   "codemirror_mode": {
    "name": "ipython",
    "version": 3
   },
   "file_extension": ".py",
   "mimetype": "text/x-python",
   "name": "python",
   "nbconvert_exporter": "python",
   "pygments_lexer": "ipython3",
   "version": "3.8.3"
  }
 },
 "nbformat": 4,
 "nbformat_minor": 4
}
